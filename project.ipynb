{
 "cells": [
  {
   "cell_type": "code",
   "execution_count": 14,
   "metadata": {},
   "outputs": [],
   "source": [
    "import tensorflow as tf\n",
    "from tensorflow.keras.models import Sequential\n",
    "from tensorflow.keras.layers import Conv2D, MaxPooling2D, Flatten, Dense, SimpleRNN\n",
    "import cv2\n",
    "import os\n",
    "from tensorflow.keras.preprocessing.image import ImageDataGenerator\n",
    "from sklearn.metrics import accuracy_score, precision_score, recall_score"
   ]
  },
  {
   "cell_type": "code",
   "execution_count": 17,
   "metadata": {},
   "outputs": [],
   "source": [
    "## From openCV documentation\n",
    "\n",
    "def preprocess_image(img_path):\n",
    "    img = cv2.imread(img_path, cv2.IMREAD_GRAYSCALE) ##read in grayscale since works well for our database as the images are in grayscale anyway\n",
    "    if img is None: # handling images that may be hard to read\n",
    "        print(f\"Failed to load image: {img_path}\")\n",
    "        return None\n",
    "    thresh_val, bin_img = cv2.threshold(img, 128, 255, cv2.THRESH_BINARY | cv2.THRESH_OTSU) #thresh_binary specifies binary threshold.\n",
    "    resized_image = cv2.resize(bin_img, (128, 32)) ## resizing image to normalize\n",
    "    return resized_image"
   ]
  },
  {
   "cell_type": "code",
   "execution_count": 18,
   "metadata": {},
   "outputs": [
    {
     "name": "stdout",
     "output_type": "stream",
     "text": [
      "Failed to load image: words/r06/r06-022/r06-022-03-05.png\n",
      "Failed to load image: words/a01/a01-117/a01-117-05-02.png\n",
      "115318\n"
     ]
    }
   ],
   "source": [
    "def load_images_from_folder(folder):\n",
    "    imgs = []\n",
    "    for root, dir, files in os.walk(folder): ## os.walk gives files in directory, dirs gives directories in current dir, and root holds the string\n",
    "        for file in files: #iterate through all the files\n",
    "            if file.endswith('.png'): #if img \n",
    "                img_path = os.path.join(root, file)\n",
    "                img = preprocess_image(img_path)\n",
    "                if img is not None: #else throws error\n",
    "                    imgs.append(img)\n",
    "    return imgs\n",
    "\n",
    "images = load_images_from_folder('words')\n",
    "print(len(images))"
   ]
  },
  {
   "cell_type": "markdown",
   "metadata": {},
   "source": [
    "## CNN part: extract features from images"
   ]
  },
  {
   "cell_type": "code",
   "execution_count": null,
   "metadata": {},
   "outputs": [],
   "source": []
  }
 ],
 "metadata": {
  "kernelspec": {
   "display_name": "Python 3.10.2 64-bit",
   "language": "python",
   "name": "python3"
  },
  "language_info": {
   "codemirror_mode": {
    "name": "ipython",
    "version": 3
   },
   "file_extension": ".py",
   "mimetype": "text/x-python",
   "name": "python",
   "nbconvert_exporter": "python",
   "pygments_lexer": "ipython3",
   "version": "3.10.2"
  },
  "orig_nbformat": 4,
  "vscode": {
   "interpreter": {
    "hash": "aee8b7b246df8f9039afb4144a1f6fd8d2ca17a180786b69acc140d282b71a49"
   }
  }
 },
 "nbformat": 4,
 "nbformat_minor": 2
}
